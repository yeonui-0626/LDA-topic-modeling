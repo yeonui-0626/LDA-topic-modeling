{
  "nbformat": 4,
  "nbformat_minor": 0,
  "metadata": {
    "colab": {
      "name": "LDA-gensim-1028.ipynb",
      "provenance": [],
      "collapsed_sections": [],
      "mount_file_id": "17lSCBNKxvfLCMBsQeWlAcACC_MDKDSgF",
      "authorship_tag": "ABX9TyOBSu4qnRuBMnasIjerVuUH",
      "include_colab_link": true
    },
    "kernelspec": {
      "name": "python3",
      "display_name": "Python 3"
    },
    "language_info": {
      "name": "python"
    }
  },
  "cells": [
    {
      "cell_type": "markdown",
      "metadata": {
        "id": "view-in-github",
        "colab_type": "text"
      },
      "source": [
        "<a href=\"https://colab.research.google.com/github/yeonui-0626/topic-modeling/blob/main/LDA_gensim_1028.ipynb\" target=\"_parent\"><img src=\"https://colab.research.google.com/assets/colab-badge.svg\" alt=\"Open In Colab\"/></a>"
      ]
    },
    {
      "cell_type": "markdown",
      "metadata": {
        "id": "Hd-UDEa1hM_w"
      },
      "source": [
        "#### 필요 패키지 설치 \n",
        "\n",
        "konlpy : 한글 형태소 분석기"
      ]
    },
    {
      "cell_type": "code",
      "metadata": {
        "id": "DNPWDXNQi65e"
      },
      "source": [
        "!pip install konlpy\n",
        "# !pip install pyLDAvis"
      ],
      "execution_count": null,
      "outputs": []
    },
    {
      "cell_type": "markdown",
      "metadata": {
        "id": "e0dwf5vKhgzV"
      },
      "source": [
        "### 0. 패키지 로드\n",
        "\n",
        "gensim :  비지도 주제 모델링 및 자연어 처리를위한 오픈 소스 라이브러리        \n",
        "Komoran : Java로 쓰여진 오픈소스 한글 형태소 분석기 \n"
      ]
    },
    {
      "cell_type": "code",
      "metadata": {
        "id": "2ndDWYG0Pzbj"
      },
      "source": [
        "# 0. 패키지 로드\n",
        "import re\n",
        "import numpy as np\n",
        "import pandas as pd\n",
        "from pprint import pprint\n",
        "import spacy"
      ],
      "execution_count": 2,
      "outputs": []
    },
    {
      "cell_type": "code",
      "metadata": {
        "id": "Krio1fi7RZnc"
      },
      "source": [
        "import gensim\n",
        "import gensim.corpora as corpora\n",
        "from gensim.utils import simple_preprocess\n",
        "from gensim.models import CoherenceModel\n",
        "from konlpy.tag import Komoran"
      ],
      "execution_count": 3,
      "outputs": []
    },
    {
      "cell_type": "markdown",
      "metadata": {
        "id": "LfOua7b5iuk2"
      },
      "source": [
        "### 1. 불용어 준비\n",
        "\n",
        "직업, 성격을 나타내는 단어 외에 자주 등장하지만    \n",
        "직업을 구분하거나 성격을 나타지내지 않는 단어들을 불용어로 지정함."
      ]
    },
    {
      "cell_type": "code",
      "metadata": {
        "id": "jjE3Y_MMTqRq"
      },
      "source": [
        "# 1. 불용어 준비\n",
        "stop_word=['필요','요구','흥미','성격','능력','사람','때문', '관련', '담당','경우',\n",
        "           '사항','불편','이외','계속','절대','서서']"
      ],
      "execution_count": 5,
      "outputs": []
    },
    {
      "cell_type": "markdown",
      "metadata": {
        "id": "uqygRGpmjWR-"
      },
      "source": [
        "### 2. 데이터 로드\n",
        "\n",
        "문서 : 커리어넷에서 직업별 적성 및 흥미 텍스트를 크롤링 한 후,\n",
        "알바별로 매칭되는 직업의 적성 및 흥미를 저장한 데이터.    \n",
        "**각 알바별 적성 및 흥미 텍스트가 각 문서가 된다.**\n"
      ]
    },
    {
      "cell_type": "code",
      "metadata": {
        "id": "zaiLgx_qUeel"
      },
      "source": [
        "# 2. 데이터 로드\n",
        "data_load = pd.read_csv('/content/drive/MyDrive/alba-aptitude.csv', encoding='cp949')\n",
        "data_load.head()\n",
        "\n",
        "data=[]\n",
        "\n",
        "for idx, row in data_load.iterrows():\n",
        "  if idx == 9 :\n",
        "     continue\n",
        "  data.append(row['context'])\n",
        "\n",
        "data"
      ],
      "execution_count": null,
      "outputs": []
    },
    {
      "cell_type": "markdown",
      "metadata": {
        "id": "qiYqVwfRkH9p"
      },
      "source": [
        "### 3. 단어 토큰화 - 각 문서마다 단어 토큰화"
      ]
    },
    {
      "cell_type": "code",
      "metadata": {
        "colab": {
          "base_uri": "https://localhost:8080/"
        },
        "id": "r7mT7eBJ1zin",
        "outputId": "92097944-c82e-4e06-b692-03eec4200c66"
      },
      "source": [
        "# 3. 단어 토큰화 - 각 문서마다 단어 토큰화\n",
        "\n",
        "# 형태소 분석기를 이용한 명사 추출\n",
        "tagger = Komoran()\n",
        "def get_nouns(text):\n",
        "    nouns = tagger.nouns(text)\n",
        "    return [n for n in nouns if len(n) > 1]\n",
        "\n",
        "# 각 문서별 추출한 명사 단어들 저장\n",
        "documents=[]\n",
        "for i in range(len(data)):\n",
        "  nouns = get_nouns(data[i])\n",
        "  doc_word=[]\n",
        "  for token in nouns:\n",
        "    if token not in stop_word:\n",
        "      doc_word.append(token)\n",
        "  documents.append(doc_word)\n",
        "len(documents)"
      ],
      "execution_count": 14,
      "outputs": [
        {
          "output_type": "execute_result",
          "data": {
            "text/plain": [
              "149"
            ]
          },
          "metadata": {},
          "execution_count": 14
        }
      ]
    },
    {
      "cell_type": "markdown",
      "metadata": {
        "id": "IPmeFPNxkLu5"
      },
      "source": [
        "### 4. 말뭉치 생성(id2word, corpus)\n",
        "\n",
        "gensim의 LDA 모델을 사용하기 위해서는 **단어사전**과 **말뭉치**가 필요하다.    \n",
        "단어사전은 id 값을 부여한 문서 전체에서 나타나는 단어들의 모음이다.    \n",
        "말뭉치는 각 문서별 나타나는 단어돠 단어의 빈도수의 모음이다. \n",
        "\n",
        "-----------------------------------------\n",
        "id2word(단어사전) : 단어에 id값을 부여한 dictionary    \n",
        "corpus(말뭉치) : id별(단어별) 빈도수"
      ]
    },
    {
      "cell_type": "code",
      "metadata": {
        "colab": {
          "base_uri": "https://localhost:8080/"
        },
        "id": "QtHYwLir2v64",
        "outputId": "b8f2f56b-d82b-407e-8d9e-a9290ba10cca"
      },
      "source": [
        "# 4. 말뭉치 생성(id2word, corpus)\n",
        "\n",
        "id2word = corpora.Dictionary(documents)\n",
        "corpus = [id2word.doc2bow(document) for document in documents]\n",
        "\n",
        "print(\"단어수 : \", len(id2word))\n",
        "print(\"id2word : ( 단어, id )\")\n",
        "print(list(id2word.token2id.items())[:5])\n",
        "print(\"corpus : ( id, 빈도수 )\")\n",
        "print(corpus[0][:5])"
      ],
      "execution_count": 15,
      "outputs": [
        {
          "output_type": "stream",
          "name": "stdout",
          "text": [
            "단어수 :  1185\n",
            "id2word : ( 단어, id )\n",
            "[('가격', 0), ('개발', 1), ('거스름돈', 2), ('계산', 3), ('고객', 4)]\n",
            "corpus : ( id, 빈도수 )\n",
            "[(0, 1), (1, 1), (2, 1), (3, 1), (4, 3)]\n"
          ]
        }
      ]
    },
    {
      "cell_type": "markdown",
      "metadata": {
        "id": "TBaDtAtFlQJx"
      },
      "source": [
        "### 5. LDA 모델 생성\n",
        "\n",
        "* num_topics : 토픽수\n",
        "* update_every : 모델 매개변수를 업데이트 해야하는 빈도    \n",
        "* chunksize : 한번 학습할 때 문서를 얼마나 볼 지    \n",
        "* passes : 모델 학습시 전체 코퍼스에서 모델을 학습시키는 빈도제어(모델을 학습시키는 횟수, epochs와 동일)    \n",
        "\n",
        "----------\n",
        "\n",
        "#### 최적의 토픽수 - num_topics = 30     \n",
        "\n",
        "모델의 Perplexity(복잡도)가 낮게 나온 토픽의 수를 나눌 토픽의 수로 지정하였다.    \n",
        "토픽의 수가 증가할 수 록 혼잡도가 계속 낮아졌지만, 분류된 토픽의 단어들이 서로 겹치지 않고 각 토픽 마다 유일한 직업 특성을 보여야하기 때문에 분류된 단어들을 보며 적당한 토픽의 수를 찾음\n",
        "\n",
        "\n",
        "\n",
        "![image.png](data:image/png;base64,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)\n",
        "\n"
      ]
    },
    {
      "cell_type": "code",
      "metadata": {
        "id": "I4cM0oH4yZpZ"
      },
      "source": [
        " # 5. 토픽 모델 생성\n",
        "\n",
        "lda_model = gensim.models.ldamodel.LdaModel(corpus=corpus,\n",
        "                                             id2word=id2word,\n",
        "                                             num_topics=30, \n",
        "                                             random_state=100,\n",
        "                                             update_every=1,\n",
        "                                             chunksize=100,\n",
        "                                             passes=10,\n",
        "                                             alpha='auto',\n",
        "                                             per_word_topics=True)  "
      ],
      "execution_count": 16,
      "outputs": []
    },
    {
      "cell_type": "markdown",
      "metadata": {
        "id": "J_rGNBSCoFRf"
      },
      "source": [
        "#### 6. 모델 복잡도\n",
        "\n",
        "#### 복잡도\n",
        "토픽 모델링도 문서 집합 내 용어 출현 횟수를 바탕으로, 문서 내 주제 출현 확률과 주제 내 용어 출현 활률을 계산하는 확률 모델이므로, 확률 모델을 평가할 때 사용하는 척도를 사용함.\n"
      ]
    },
    {
      "cell_type": "code",
      "metadata": {
        "colab": {
          "base_uri": "https://localhost:8080/"
        },
        "id": "Ry6luKNU8xxC",
        "outputId": "9c911b14-b64b-4a74-d01a-dd9cf3b29a96"
      },
      "source": [
        "# 복잡도(Perplexity)\n",
        "perplexity = lda_model.log_perplexity(corpus)\n",
        "\n",
        "# 일관성(Coherence) - 문서별 대표 단어들이 얼마나 의미적으로 유사한지 판단\n",
        "# => 모델이 어떻게 한글 단어의 의미를 판단하는 지 몰라 사용 X \n",
        "coherence_model_lda  = CoherenceModel(model=lda_model, texts=documents, dictionary=id2word,coherence='c_v')\n",
        "coherence_lda = coherence_model_lda.get_coherence()\n",
        "\n",
        "print('Perplexity : ',perplexity)\n",
        "print('Coherence Score: ', coherence_lda)"
      ],
      "execution_count": 18,
      "outputs": [
        {
          "output_type": "stream",
          "name": "stdout",
          "text": [
            "Perplexity :  -6.1910586945524875\n",
            "Coherence Score:  0.4327066636198079\n"
          ]
        }
      ]
    },
    {
      "cell_type": "code",
      "metadata": {
        "colab": {
          "base_uri": "https://localhost:8080/"
        },
        "id": "gHvFnThKD1rU",
        "outputId": "1f5fe119-fa5d-4987-cee1-096d5cf93ba7"
      },
      "source": [
        "# 토픽별 단어 출력 30개\n",
        "topic_words=lda_model.show_topics(num_topics=30,num_words=30, formatted=False)\n",
        "doc_lda = lda_model[corpus]\n",
        "\n",
        "print(topic_words[0])"
      ],
      "execution_count": 53,
      "outputs": [
        {
          "output_type": "stream",
          "name": "stdout",
          "text": [
            "(0, [('체력', 0.032275964), ('기계', 0.031399526), ('작업', 0.030342074), ('기기', 0.028377144), ('습득', 0.026473857), ('위치', 0.024567539), ('장비', 0.020780591), ('협조', 0.02066553), ('기술', 0.020345664), ('사용', 0.019716604), ('사회', 0.01935994), ('장애', 0.018928502), ('진취', 0.018261852), ('인내심', 0.017489078), ('재주', 0.017021544), ('예술', 0.016738744), ('건강', 0.016174737), ('신체', 0.01578996), ('지식', 0.014923382), ('끈기', 0.013772742), ('이해', 0.013563689), ('순발력', 0.013301782), ('계발', 0.013289446), ('도덕', 0.013001539), ('감각', 0.012137941), ('특성', 0.01130983), ('직업', 0.011262889), ('업무', 0.010906457), ('현실', 0.010372372), ('인내', 0.010224405)])\n"
          ]
        }
      ]
    },
    {
      "cell_type": "markdown",
      "metadata": {
        "id": "JpJJgwzUoWdY"
      },
      "source": [
        "##### 문서별 토픽의 비율 확인"
      ]
    },
    {
      "cell_type": "code",
      "metadata": {
        "colab": {
          "base_uri": "https://localhost:8080/"
        },
        "id": "GQnGigkjFRmx",
        "outputId": "7af90bb2-ffd2-4686-88b1-9f39d53a5ad1"
      },
      "source": [
        "for i, topic_list in enumerate(lda_model[corpus]):\n",
        "  if i==5:\n",
        "    break;\n",
        "  print(i,'번째 문서의 topic 비율은',topic_list[0])"
      ],
      "execution_count": 31,
      "outputs": [
        {
          "output_type": "stream",
          "name": "stdout",
          "text": [
            "0 번째 문서의 topic 비율은 [(1, 0.33486113), (3, 0.6501015)]\n",
            "1 번째 문서의 topic 비율은 [(3, 0.12821504), (15, 0.6403752), (17, 0.22399268)]\n",
            "2 번째 문서의 topic 비율은 [(15, 0.74174815), (17, 0.24903178)]\n",
            "3 번째 문서의 topic 비율은 [(17, 0.9857578)]\n",
            "4 번째 문서의 topic 비율은 [(17, 0.9857578)]\n"
          ]
        }
      ]
    },
    {
      "cell_type": "markdown",
      "metadata": {
        "id": "8Ep5bAoioY99"
      },
      "source": [
        "##### 문서별 가장 비중이 큰 토픽 확인"
      ]
    },
    {
      "cell_type": "code",
      "metadata": {
        "id": "ctMuo-qTGXUT"
      },
      "source": [
        "def make_topictable_per_doc(lda_model, corpus):\n",
        "    topic_table = pd.DataFrame()\n",
        "\n",
        "    # 몇 번째 문서인지를 의미하는 문서 번호와 해당 문서의 토픽 비중을 한 줄씩 꺼내온다.\n",
        "    for i, topic_list in enumerate(lda_model[corpus]):\n",
        "        doc = topic_list[0] if lda_model.per_word_topics else topic_list[0]            \n",
        "        doc = sorted(doc, key=lambda x: (x[1]), reverse=True)\n",
        "        # 각 문서에 대해서 비중이 높은 토픽순으로 토픽을 정렬한다.\n",
        "        # EX) 정렬 전 0번 문서 : (2번 토픽, 48.5%), (8번 토픽, 25%), (10번 토픽, 5%), (12번 토픽, 21.5%), \n",
        "        # Ex) 정렬 후 0번 문서 : (2번 토픽, 48.5%), (8번 토픽, 25%), (12번 토픽, 21.5%), (10번 토픽, 5%)\n",
        "        # 48 > 25 > 21 > 5 순으로 정렬이 된 것.\n",
        "\n",
        "        # 모든 문서에 대해서 각각 아래를 수행\n",
        "        for j, (topic_num, prop_topic) in enumerate(doc): #  몇 번 토픽인지와 비중을 나눠서 저장한다.\n",
        "            if j == 0:  # 정렬을 한 상태이므로 가장 앞에 있는 것이 가장 비중이 높은 토픽\n",
        "                topic_table = topic_table.append(pd.Series([int(topic_num), round(prop_topic,4), topic_list[0]]), ignore_index=True)\n",
        "                # 가장 비중이 높은 토픽과, 가장 비중이 높은 토픽의 비중과, 전체 토픽의 비중을 저장한다.\n",
        "            else:\n",
        "                break\n",
        "    return(topic_table)"
      ],
      "execution_count": 32,
      "outputs": []
    },
    {
      "cell_type": "code",
      "metadata": {
        "id": "MrMdIBYdHFLW"
      },
      "source": [
        "topictable = make_topictable_per_doc(lda_model, corpus)\n",
        "topictable = topictable.reset_index() # 문서 번호을 의미하는 열(column)로 사용하기 위해서 인덱스 열을 하나 더 만든다.\n",
        "topictable.columns = ['문서 번호', '가장 비중이 높은 토픽', '가장 높은 토픽의 비중', '각 토픽의 비중']"
      ],
      "execution_count": null,
      "outputs": []
    },
    {
      "cell_type": "code",
      "metadata": {
        "id": "pZQJi9BvHHsq"
      },
      "source": [
        "job_list=[]\n",
        "for idx, row in data_load.iterrows():\n",
        "    if idx == 9: continue\n",
        "    job_list.append(row['alba_name'])\n",
        "\n",
        "topictable.index = job_list"
      ],
      "execution_count": 35,
      "outputs": []
    },
    {
      "cell_type": "code",
      "metadata": {
        "colab": {
          "base_uri": "https://localhost:8080/",
          "height": 357
        },
        "id": "W4sMqcBtPOZ-",
        "outputId": "460678ce-197b-4afa-dccf-571b5eb8a8d5"
      },
      "source": [
        "topictable[:10]"
      ],
      "execution_count": 54,
      "outputs": [
        {
          "output_type": "execute_result",
          "data": {
            "text/html": [
              "<div>\n",
              "<style scoped>\n",
              "    .dataframe tbody tr th:only-of-type {\n",
              "        vertical-align: middle;\n",
              "    }\n",
              "\n",
              "    .dataframe tbody tr th {\n",
              "        vertical-align: top;\n",
              "    }\n",
              "\n",
              "    .dataframe thead th {\n",
              "        text-align: right;\n",
              "    }\n",
              "</style>\n",
              "<table border=\"1\" class=\"dataframe\">\n",
              "  <thead>\n",
              "    <tr style=\"text-align: right;\">\n",
              "      <th></th>\n",
              "      <th>문서 번호</th>\n",
              "      <th>가장 비중이 높은 토픽</th>\n",
              "      <th>가장 높은 토픽의 비중</th>\n",
              "      <th>각 토픽의 비중</th>\n",
              "    </tr>\n",
              "  </thead>\n",
              "  <tbody>\n",
              "    <tr>\n",
              "      <th>일반음식점</th>\n",
              "      <td>0</td>\n",
              "      <td>3.0</td>\n",
              "      <td>0.6501</td>\n",
              "      <td>[(1, 0.33486563), (3, 0.650097)]</td>\n",
              "    </tr>\n",
              "    <tr>\n",
              "      <th>레스토랑</th>\n",
              "      <td>1</td>\n",
              "      <td>15.0</td>\n",
              "      <td>0.6404</td>\n",
              "      <td>[(3, 0.12825072), (15, 0.64037305), (17, 0.223...</td>\n",
              "    </tr>\n",
              "    <tr>\n",
              "      <th>패밀리레스토랑</th>\n",
              "      <td>2</td>\n",
              "      <td>15.0</td>\n",
              "      <td>0.7418</td>\n",
              "      <td>[(15, 0.7417609), (17, 0.24901895)]</td>\n",
              "    </tr>\n",
              "    <tr>\n",
              "      <th>패스트푸드점</th>\n",
              "      <td>3</td>\n",
              "      <td>17.0</td>\n",
              "      <td>0.9858</td>\n",
              "      <td>[(17, 0.9857578)]</td>\n",
              "    </tr>\n",
              "    <tr>\n",
              "      <th>치킨ㆍ피자전문점</th>\n",
              "      <td>4</td>\n",
              "      <td>17.0</td>\n",
              "      <td>0.9858</td>\n",
              "      <td>[(17, 0.9857578)]</td>\n",
              "    </tr>\n",
              "    <tr>\n",
              "      <th>커피전문점</th>\n",
              "      <td>5</td>\n",
              "      <td>17.0</td>\n",
              "      <td>0.9866</td>\n",
              "      <td>[(17, 0.986584)]</td>\n",
              "    </tr>\n",
              "    <tr>\n",
              "      <th>아이스크림ㆍ디저트</th>\n",
              "      <td>6</td>\n",
              "      <td>17.0</td>\n",
              "      <td>0.9866</td>\n",
              "      <td>[(17, 0.986584)]</td>\n",
              "    </tr>\n",
              "    <tr>\n",
              "      <th>베이커리ㆍ도넛ㆍ떡</th>\n",
              "      <td>7</td>\n",
              "      <td>1.0</td>\n",
              "      <td>0.3985</td>\n",
              "      <td>[(1, 0.3985121), (14, 0.103884965), (16, 0.158...</td>\n",
              "    </tr>\n",
              "    <tr>\n",
              "      <th>호프ㆍ일반주점</th>\n",
              "      <td>8</td>\n",
              "      <td>15.0</td>\n",
              "      <td>0.4986</td>\n",
              "      <td>[(15, 0.4985675), (17, 0.49025208)]</td>\n",
              "    </tr>\n",
              "    <tr>\n",
              "      <th>급식ㆍ푸드시스템</th>\n",
              "      <td>9</td>\n",
              "      <td>3.0</td>\n",
              "      <td>0.6002</td>\n",
              "      <td>[(3, 0.60023844), (15, 0.34542674), (16, 0.041...</td>\n",
              "    </tr>\n",
              "  </tbody>\n",
              "</table>\n",
              "</div>"
            ],
            "text/plain": [
              "           문서 번호  ...                                           각 토픽의 비중\n",
              "일반음식점          0  ...                   [(1, 0.33486563), (3, 0.650097)]\n",
              "레스토랑           1  ...  [(3, 0.12825072), (15, 0.64037305), (17, 0.223...\n",
              "패밀리레스토랑        2  ...                [(15, 0.7417609), (17, 0.24901895)]\n",
              "패스트푸드점         3  ...                                  [(17, 0.9857578)]\n",
              "치킨ㆍ피자전문점       4  ...                                  [(17, 0.9857578)]\n",
              "커피전문점          5  ...                                   [(17, 0.986584)]\n",
              "아이스크림ㆍ디저트      6  ...                                   [(17, 0.986584)]\n",
              "베이커리ㆍ도넛ㆍ떡      7  ...  [(1, 0.3985121), (14, 0.103884965), (16, 0.158...\n",
              "호프ㆍ일반주점        8  ...                [(15, 0.4985675), (17, 0.49025208)]\n",
              "급식ㆍ푸드시스템       9  ...  [(3, 0.60023844), (15, 0.34542674), (16, 0.041...\n",
              "\n",
              "[10 rows x 4 columns]"
            ]
          },
          "metadata": {},
          "execution_count": 54
        }
      ]
    },
    {
      "cell_type": "markdown",
      "metadata": {
        "id": "LcFgNmcWoRyX"
      },
      "source": [
        "##### 토픽별 단어 저장"
      ]
    },
    {
      "cell_type": "code",
      "metadata": {
        "id": "6gO64MvZRLx-"
      },
      "source": [
        "# 토픽별 단어 저장\n",
        "words_df = pd.DataFrame(index=range(0,30), columns=['words'])\n",
        "\n",
        "for i in range(len(topic_words)):\n",
        "  words_list = topic_words[i][1]\n",
        "  tmp =[]\n",
        "  for k in range(len(words_list)):\n",
        "    tmp.append(words_list[k][0])\n",
        "  words_df.loc[i,'words'] = tmp"
      ],
      "execution_count": 50,
      "outputs": []
    },
    {
      "cell_type": "code",
      "metadata": {
        "id": "x_k-kxQZRNBg"
      },
      "source": [
        "words_df.to_csv(\"gensim-토픽별단어.csv\")"
      ],
      "execution_count": 52,
      "outputs": []
    }
  ]
}