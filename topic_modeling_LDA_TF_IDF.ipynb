{
  "nbformat": 4,
  "nbformat_minor": 0,
  "metadata": {
    "colab": {
      "name": "topic_modeling_LDA_TF-IDF.ipynb",
      "provenance": [],
      "collapsed_sections": [],
      "mount_file_id": "18MNF-ROjyarsG_R7ij9wD1Ry5_Qi8oKv",
      "authorship_tag": "ABX9TyPmTK0wxD5n7+BiKnBn025p",
      "include_colab_link": true
    },
    "kernelspec": {
      "name": "python3",
      "display_name": "Python 3"
    },
    "language_info": {
      "name": "python"
    }
  },
  "cells": [
    {
      "cell_type": "markdown",
      "metadata": {
        "id": "view-in-github",
        "colab_type": "text"
      },
      "source": [
        "<a href=\"https://colab.research.google.com/github/yeonui-0626/topic-modeling/blob/main/topic_modeling_LDA_TF_IDF.ipynb\" target=\"_parent\"><img src=\"https://colab.research.google.com/assets/colab-badge.svg\" alt=\"Open In Colab\"/></a>"
      ]
    },
    {
      "cell_type": "code",
      "metadata": {
        "id": "FZ5BxVbGLQEI"
      },
      "source": [
        "!pip install konlpy\n",
        "import pandas as pd\n",
        "import numpy as np\n",
        "from konlpy.tag import Komoran\n",
        "from sklearn.feature_extraction.text import CountVectorizer, TfidfVectorizer "
      ],
      "execution_count": null,
      "outputs": []
    },
    {
      "cell_type": "code",
      "metadata": {
        "colab": {
          "base_uri": "https://localhost:8080/",
          "height": 203
        },
        "id": "Utel-w0KCk-c",
        "outputId": "3fa4ef12-4855-4512-84a3-64e39823d5af"
      },
      "source": [
        "data = pd.read_csv('/content/drive/MyDrive/alba-aptitude.csv', encoding='cp949')\n",
        "data.head()"
      ],
      "execution_count": 2,
      "outputs": [
        {
          "output_type": "execute_result",
          "data": {
            "text/html": [
              "<div>\n",
              "<style scoped>\n",
              "    .dataframe tbody tr th:only-of-type {\n",
              "        vertical-align: middle;\n",
              "    }\n",
              "\n",
              "    .dataframe tbody tr th {\n",
              "        vertical-align: top;\n",
              "    }\n",
              "\n",
              "    .dataframe thead th {\n",
              "        text-align: right;\n",
              "    }\n",
              "</style>\n",
              "<table border=\"1\" class=\"dataframe\">\n",
              "  <thead>\n",
              "    <tr style=\"text-align: right;\">\n",
              "      <th></th>\n",
              "      <th>alba_name</th>\n",
              "      <th>sub_code</th>\n",
              "      <th>context</th>\n",
              "    </tr>\n",
              "  </thead>\n",
              "  <tbody>\n",
              "    <tr>\n",
              "      <th>0</th>\n",
              "      <td>일반음식점</td>\n",
              "      <td>1010</td>\n",
              "      <td>조리사 및 주방장은 예민한 미각이 필요하며 새로운 음식 메뉴를 개발하기 위해 진취적...</td>\n",
              "    </tr>\n",
              "    <tr>\n",
              "      <th>1</th>\n",
              "      <td>레스토랑</td>\n",
              "      <td>1020</td>\n",
              "      <td>각종 와인의 종류와 맛, 음식과의 궁합에 대해 알고 있어야 하며, 이를 위해 포도의...</td>\n",
              "    </tr>\n",
              "    <tr>\n",
              "      <th>2</th>\n",
              "      <td>패밀리레스토랑</td>\n",
              "      <td>1030</td>\n",
              "      <td>각종 와인의 종류와 맛, 음식과의 궁합에 대해 알고 있어야 하며, 이를 위해 포도의...</td>\n",
              "    </tr>\n",
              "    <tr>\n",
              "      <th>3</th>\n",
              "      <td>패스트푸드점</td>\n",
              "      <td>1040</td>\n",
              "      <td>무엇보다 설거지, 청소, 음식재료 다듬기 등의 힘든 일을 잘 견디어낼 수 있는 인내...</td>\n",
              "    </tr>\n",
              "    <tr>\n",
              "      <th>4</th>\n",
              "      <td>치킨ㆍ피자전문점</td>\n",
              "      <td>1050</td>\n",
              "      <td>무엇보다 설거지, 청소, 음식재료 다듬기 등의 힘든 일을 잘 견디어낼 수 있는 인내...</td>\n",
              "    </tr>\n",
              "  </tbody>\n",
              "</table>\n",
              "</div>"
            ],
            "text/plain": [
              "  alba_name sub_code                                            context\n",
              "0     일반음식점     1010  조리사 및 주방장은 예민한 미각이 필요하며 새로운 음식 메뉴를 개발하기 위해 진취적...\n",
              "1      레스토랑     1020  각종 와인의 종류와 맛, 음식과의 궁합에 대해 알고 있어야 하며, 이를 위해 포도의...\n",
              "2   패밀리레스토랑     1030  각종 와인의 종류와 맛, 음식과의 궁합에 대해 알고 있어야 하며, 이를 위해 포도의...\n",
              "3    패스트푸드점     1040  무엇보다 설거지, 청소, 음식재료 다듬기 등의 힘든 일을 잘 견디어낼 수 있는 인내...\n",
              "4  치킨ㆍ피자전문점     1050  무엇보다 설거지, 청소, 음식재료 다듬기 등의 힘든 일을 잘 견디어낼 수 있는 인내..."
            ]
          },
          "metadata": {},
          "execution_count": 2
        }
      ]
    },
    {
      "cell_type": "code",
      "metadata": {
        "id": "Z3G5kWa1cz3L"
      },
      "source": [
        "data_all=[]\n",
        "\n",
        "for idx, row in data.iterrows():\n",
        "  if idx == 9 :\n",
        "     continue\n",
        "  data_all.append(row['context'])\n",
        "\n",
        "data_all"
      ],
      "execution_count": null,
      "outputs": []
    },
    {
      "cell_type": "code",
      "metadata": {
        "id": "Iqda-uH4FE1G"
      },
      "source": [
        "tagger = Komoran()\n",
        "def get_nouns(text):\n",
        "    nouns = tagger.nouns(text)\n",
        "    return [n for n in nouns if len(n) > 1]\n",
        "\n",
        "\n",
        "# 불용어 지정\n",
        "stopword=['필요','요구','흥미','성격','능력','사람','때문', '관련', '담당','경우','사항']"
      ],
      "execution_count": 5,
      "outputs": []
    },
    {
      "cell_type": "code",
      "metadata": {
        "id": "f4DZmkAJbh-G"
      },
      "source": [
        "# CountVectorizer 생성 \n",
        "#  ngram_range=(1,1) 로 해서 단어 하나만 뽑히게\n",
        "vectorizer = CountVectorizer(analyzer='word', tokenizer=get_nouns, min_df=0,\n",
        "                                    stop_words = stopword, ngram_range=(1,1))\n",
        "\n",
        "tdm = vectorizer.fit_transform(data_all)"
      ],
      "execution_count": 6,
      "outputs": []
    },
    {
      "cell_type": "code",
      "metadata": {
        "colab": {
          "base_uri": "https://localhost:8080/"
        },
        "id": "xzIXID42b3am",
        "outputId": "696b0e23-542a-49f2-e0eb-ee05f555f9b7"
      },
      "source": [
        "print(\"(문서 수, 단어 수)\")\n",
        "print(tdm.shape) # (문서 수, 단어 수)\n",
        "\n",
        "words = vectorizer.get_feature_names()  #단어 목록 저장\n",
        "count = tdm.sum(axis=0) #열별로 모든 행 합계 -> 단어별로 빈도 구함\n",
        "print(count.shape)\n"
      ],
      "execution_count": 7,
      "outputs": [
        {
          "output_type": "stream",
          "name": "stdout",
          "text": [
            "(문서 수, 단어 수)\n",
            "(149, 1189)\n",
            "(1, 1189)\n"
          ]
        }
      ]
    },
    {
      "cell_type": "code",
      "metadata": {
        "id": "08zSXljKk7Dk"
      },
      "source": [
        "word_count = list(zip(words, count.flat)) #단어와 빈도를 튜플 형식으로 매칭\n",
        "word_count = sorted(word_count, key=lambda x:x[1], reverse=True) # 내림차순으로 정렬\n",
        "\n",
        "word_df = pd.DataFrame(word_count, columns=['단어','빈도수'])\n",
        "# word_df\n",
        "# word_df.to_csv('words_count.csv')"
      ],
      "execution_count": 8,
      "outputs": []
    },
    {
      "cell_type": "code",
      "metadata": {
        "colab": {
          "base_uri": "https://localhost:8080/"
        },
        "id": "WcneOE88a3vh",
        "outputId": "571edad9-5038-4bc7-fb9c-82a36082b3c7"
      },
      "source": [
        "from sklearn.decomposition import LatentDirichletAllocation\n",
        "\n",
        "# LDA클래스를 이용해서 피처 벡터화시킨 것을 토픽모델링 시키기\n",
        "# n_components(토픽개수) 16로 설정 -> 16개의 MBTI와 매칭시키기 위함\n",
        "lda = LatentDirichletAllocation(n_components=16, random_state=42)\n",
        "lda.fit(tdm)\n",
        "# components_속성은 16개의 토픽별(row)로 feature(단어)들의 분포수치(column)를 보여줌\n",
        "print(lda.components_.shape)\n",
        "# 행은 토픽, 열은 단어들을 벡터화시킨 feature 들\n",
        "print(lda.components_)"
      ],
      "execution_count": 9,
      "outputs": [
        {
          "output_type": "stream",
          "name": "stdout",
          "text": [
            "(16, 1189)\n",
            "[[0.06250004 0.0625     0.0625     ... 0.0625     0.0625     0.06250001]\n",
            " [0.06250003 0.0625     0.0625     ... 0.0625     0.0625     0.0625    ]\n",
            " [0.0625     0.0625     0.0625     ... 0.0625     0.0625     2.0625    ]\n",
            " ...\n",
            " [0.0625     0.0625     0.0625     ... 0.0625     0.0625     0.0625    ]\n",
            " [0.06250006 0.0625     0.0625     ... 0.0625     0.0625     0.0625    ]\n",
            " [1.08142141 0.0625     0.0625     ... 0.0625     1.0625     3.06249999]]\n"
          ]
        }
      ]
    },
    {
      "cell_type": "code",
      "metadata": {
        "colab": {
          "base_uri": "https://localhost:8080/"
        },
        "id": "ik4KygdvbTnO",
        "outputId": "4dd6c541-5519-409b-bfa4-c48c2e9c6ffc"
      },
      "source": [
        "feature_df = pd.DataFrame(index=range(0,16), columns=['words'])\n",
        "\n",
        "def display_topic_words(lda_model, feature_names, num_top_words):\n",
        "  for topic_idx, topic in enumerate(lda_model.components_):\n",
        "    # print(\"Topic #\", topic_idx+1)\n",
        "\n",
        "    # topic 별로 모든 단어들 중에서 높은 값 순으로 정렬 후 index를 반환해줌!\n",
        "    # argsort()는 디폴트가 오름차순임 그래서 [::-1]로 내림차순으로 바꿔줌\n",
        "    topic_word_idx = topic.argsort()[::-1]\n",
        "    top_idx = topic_word_idx[:num_top_words]\n",
        "    feature_concat = ' '.join([str(feature_names[i])+' '+str(round(topic[i], 1))+'\\n' for i in top_idx])\n",
        "    feature_list = ''\n",
        "    feature_list += ', '.join([str(feature_names[i]) for i in top_idx])\n",
        "    feature_df.loc[topic_idx,'words'] = feature_list\n",
        "    \n",
        "\n",
        "# get_feature_names : 벡터화 시킨 feature(단어)들을 볼 수 있음\n",
        "feature_names = vectorizer.get_feature_names()\n",
        "display_topic_words(lda, feature_names, 30)\n",
        "print(feature_df)"
      ],
      "execution_count": 11,
      "outputs": [
        {
          "output_type": "stream",
          "name": "stdout",
          "text": [
            "                                                words\n",
            "0   고객, 지식, 상품, 적극, 서비스, 제품, 관리, 영업, 사회, 예술, 대처, 정...\n",
            "1   음식, 와인, 체력, 예술, 미각, 정신, 고객, 끈기, 인내심, 서비스, 배려, ...\n",
            "2   배려, 환자, 판단력, 사회, 분석, 상황, 대처, 의식, 치료, 순발력, 수행, ...\n",
            "3   작업, 편집, 분석, 책임감, 감각, 신뢰, 판단력, 예술, 지식, 탐구, 사고, ...\n",
            "4   대인, 관계, 창의력, 실무, 사고, 해결, 기술자, 워드, 문서, 사무, 매체, ...\n",
            "5   고객, 사회, 주문, 배려, 체력, 관습, 정신, 고객 서비스, 적응력, 장시간, ...\n",
            "6   예술, 감각, 지식, 장비, 기술, 사회, 리더십, 탐구, 소리, 원활, 제작, 대...\n",
            "7   작업, 제작, 체력, 재주, 장비, 신체, 건강, 사회, 가구, 업무, 이해, 수행...\n",
            "8   상품, 분석, 물건, 건강, 논리, 작성, 회계, 지식, 체력, 컴퓨터, 관습, 사...\n",
            "9   이해, 연구, 탐구, 기술, 관찰력, 과학, 인내심, 사고, 지식, 적용, 공학, ...\n",
            "10  분석, 사고, 문제, 지식, 논리, 해결, 탐구, 개발, 끈기, 기술, 시스템, 컴...\n",
            "11  작업, 감각, 인내심, 지식, 보석, 예술, 기계, 활용, 집중력, 컴퓨터, 끈기,...\n",
            "12  고객, 서비스, 정신, 사회, 현실, 파악, 배려, 관습, 의사소통, 계산, 정직,...\n",
            "13  학생, 지식, 기술, 전기, 이론, 학습, 지도력, 적극, 교육, 지도, 교수, 유...\n",
            "14  분석, 시장, 자료, 사고, 소비자, 혁신, 업무, 지식, 대인, 관계, 배려, 의...\n",
            "15  사회, 지식, 신속, 배려, 상황, 대처, 돌발, 통제, 신체, 정직, 교통, 현실...\n"
          ]
        }
      ]
    },
    {
      "cell_type": "code",
      "metadata": {
        "id": "sGokMa_hhxzM"
      },
      "source": [
        "feature_df.to_csv('words_of_16topic_count.csv')"
      ],
      "execution_count": null,
      "outputs": []
    },
    {
      "cell_type": "code",
      "metadata": {
        "colab": {
          "base_uri": "https://localhost:8080/"
        },
        "id": "ZAcT4HUxm_tx",
        "outputId": "324129ad-b3fb-4309-fed4-1efa628ec7b3"
      },
      "source": [
        "# 문서별 토픽들의 분포를 알아보자\n",
        "# transform 까지 수행하면, 문서별(row)로 토픽들(column)의 분포를 알려줌\n",
        "doc_topic = lda.transform(tdm)\n",
        "perplexity = lda.perplexity(tdm, [doc_topic])\n",
        "print(perplexity)\n",
        "print(doc_topic.shape)\n",
        "print(doc_topic[:2])"
      ],
      "execution_count": 13,
      "outputs": [
        {
          "output_type": "stream",
          "name": "stdout",
          "text": [
            "216.15939775219684\n",
            "(149, 16)\n",
            "[[1.02459084e-03 6.44638093e-01 1.02459056e-03 1.02459040e-03\n",
            "  1.02459030e-03 1.02459122e-03 1.02459044e-03 1.02459036e-03\n",
            "  1.02459049e-03 1.02459034e-03 1.02459045e-03 1.02459033e-03\n",
            "  3.41017640e-01 1.02459033e-03 1.02459033e-03 1.02459075e-03]\n",
            " [5.16529435e-04 7.81218966e-01 5.16529067e-04 5.16529059e-04\n",
            "  5.16528975e-04 2.11549627e-01 5.16529175e-04 5.16529060e-04\n",
            "  5.16529049e-04 5.16529122e-04 5.16529087e-04 5.16529070e-04\n",
            "  5.16529148e-04 5.16529047e-04 5.16529006e-04 5.16529150e-04]]\n"
          ]
        }
      ]
    },
    {
      "cell_type": "code",
      "metadata": {
        "id": "mNokHwybqWsV"
      },
      "source": [
        "job_lst = []\n",
        "for idx, row in data.iterrows():\n",
        "    if idx == 9: continue\n",
        "    job_lst.append(row['alba_name'])"
      ],
      "execution_count": null,
      "outputs": []
    },
    {
      "cell_type": "code",
      "metadata": {
        "colab": {
          "base_uri": "https://localhost:8080/"
        },
        "id": "O8F34sMxpJWY",
        "outputId": "5ca559d8-1d18-4a8a-8730-133a54aaef48"
      },
      "source": [
        "topic_names = ['Topic #'+str(i+1) for i in range(0,16)]\n",
        "topic_df = pd.DataFrame(data=doc_topic,columns=topic_names, index=job_lst)\n",
        "print(topic_df.head(20))"
      ],
      "execution_count": null,
      "outputs": [
        {
          "output_type": "stream",
          "name": "stdout",
          "text": [
            "               Topic #1  Topic #2  Topic #3  ...  Topic #14  Topic #15  Topic #16\n",
            "일반음식점          0.001025  0.644638  0.001025  ...   0.001025   0.001025   0.001025\n",
            "레스토랑           0.000517  0.781219  0.000517  ...   0.000517   0.000517   0.000517\n",
            "패밀리레스토랑        0.000631  0.739092  0.000631  ...   0.000631   0.000631   0.000631\n",
            "패스트푸드점         0.000947  0.000947  0.000947  ...   0.000947   0.000947   0.000947\n",
            "치킨ㆍ피자전문점       0.000947  0.000947  0.000947  ...   0.000947   0.000947   0.000947\n",
            "커피전문점          0.000893  0.000893  0.000893  ...   0.000893   0.000893   0.000893\n",
            "아이스크림ㆍ디저트      0.000893  0.000893  0.000893  ...   0.000893   0.000893   0.000893\n",
            "베이커리ㆍ도넛ㆍ떡      0.001524  0.001524  0.001524  ...   0.001524   0.001524   0.001524\n",
            "호프ㆍ일반주점        0.000772  0.093922  0.000772  ...   0.000772   0.000772   0.000772\n",
            "급식ㆍ푸드시스템       0.000906  0.599862  0.000906  ...   0.000906   0.000906   0.000906\n",
            "도시락ㆍ반찬         0.001563  0.976562  0.001563  ...   0.001563   0.001563   0.001563\n",
            "백화점ㆍ면세점        0.244487  0.000665  0.000665  ...   0.000665   0.544041   0.000665\n",
            "복합쇼핑몰ㆍ아울렛      0.767866  0.000822  0.000822  ...   0.000822   0.000822   0.000822\n",
            "쇼핑몰ㆍ소셜커머스ㆍ홈쇼핑  0.983259  0.001116  0.001116  ...   0.001116   0.001116   0.001116\n",
            "유통점ㆍ마트         0.000801  0.000801  0.000801  ...   0.000801   0.000801   0.000801\n",
            "편의점            0.001116  0.001116  0.001116  ...   0.001116   0.001116   0.001116\n",
            "의류ㆍ잡화매장        0.833731  0.000977  0.000977  ...   0.000977   0.000977   0.000977\n",
            "뷰티ㆍ헬스스토어       0.477426  0.001116  0.001116  ...   0.001116   0.001116   0.001116\n",
            "휴대폰ㆍ전자기기매장     0.984631  0.001025  0.001025  ...   0.001025   0.001025   0.001025\n",
            "가구ㆍ침구ㆍ생활소품     0.461794  0.001250  0.001250  ...   0.001250   0.001250   0.001250\n",
            "\n",
            "[20 rows x 16 columns]\n"
          ]
        }
      ]
    },
    {
      "cell_type": "code",
      "metadata": {
        "colab": {
          "base_uri": "https://localhost:8080/",
          "height": 1000
        },
        "id": "Cf_N9nDRQwrU",
        "outputId": "fccbafe0-d220-4d21-87ad-2b8b5a6fbe3b"
      },
      "source": [
        "# topic_df.columns=[0,1,2,3,4,5,6,7,8,9,10,11,12,13,14,15]\n",
        "# topic_df = pd.DataFrame(topic_df,columns=[0,1,2,3,4,5,6,7,8,9,10,11,12,13,14,15,'topic'])\n",
        "# topic_df\n",
        "for idx, row in topic_df.iterrows():\n",
        "  max=0\n",
        "  col=0\n",
        "  for n in range(0,16):\n",
        "    if max < row[n]:\n",
        "      max = row[n]\n",
        "      col=n\n",
        "  row['topic'] = col\n",
        "topic_df"
      ],
      "execution_count": null,
      "outputs": [
        {
          "output_type": "execute_result",
          "data": {
            "text/html": [
              "<div>\n",
              "<style scoped>\n",
              "    .dataframe tbody tr th:only-of-type {\n",
              "        vertical-align: middle;\n",
              "    }\n",
              "\n",
              "    .dataframe tbody tr th {\n",
              "        vertical-align: top;\n",
              "    }\n",
              "\n",
              "    .dataframe thead th {\n",
              "        text-align: right;\n",
              "    }\n",
              "</style>\n",
              "<table border=\"1\" class=\"dataframe\">\n",
              "  <thead>\n",
              "    <tr style=\"text-align: right;\">\n",
              "      <th></th>\n",
              "      <th>0</th>\n",
              "      <th>1</th>\n",
              "      <th>2</th>\n",
              "      <th>3</th>\n",
              "      <th>4</th>\n",
              "      <th>5</th>\n",
              "      <th>6</th>\n",
              "      <th>7</th>\n",
              "      <th>8</th>\n",
              "      <th>9</th>\n",
              "      <th>10</th>\n",
              "      <th>11</th>\n",
              "      <th>12</th>\n",
              "      <th>13</th>\n",
              "      <th>14</th>\n",
              "      <th>15</th>\n",
              "      <th>topic</th>\n",
              "    </tr>\n",
              "  </thead>\n",
              "  <tbody>\n",
              "    <tr>\n",
              "      <th>일반음식점</th>\n",
              "      <td>0.001025</td>\n",
              "      <td>0.644638</td>\n",
              "      <td>0.001025</td>\n",
              "      <td>0.001025</td>\n",
              "      <td>0.001025</td>\n",
              "      <td>0.001025</td>\n",
              "      <td>0.001025</td>\n",
              "      <td>0.001025</td>\n",
              "      <td>0.001025</td>\n",
              "      <td>0.001025</td>\n",
              "      <td>0.001025</td>\n",
              "      <td>0.001025</td>\n",
              "      <td>0.341018</td>\n",
              "      <td>0.001025</td>\n",
              "      <td>0.001025</td>\n",
              "      <td>0.001025</td>\n",
              "      <td>1.0</td>\n",
              "    </tr>\n",
              "    <tr>\n",
              "      <th>레스토랑</th>\n",
              "      <td>0.000517</td>\n",
              "      <td>0.781219</td>\n",
              "      <td>0.000517</td>\n",
              "      <td>0.000517</td>\n",
              "      <td>0.000517</td>\n",
              "      <td>0.211550</td>\n",
              "      <td>0.000517</td>\n",
              "      <td>0.000517</td>\n",
              "      <td>0.000517</td>\n",
              "      <td>0.000517</td>\n",
              "      <td>0.000517</td>\n",
              "      <td>0.000517</td>\n",
              "      <td>0.000517</td>\n",
              "      <td>0.000517</td>\n",
              "      <td>0.000517</td>\n",
              "      <td>0.000517</td>\n",
              "      <td>1.0</td>\n",
              "    </tr>\n",
              "    <tr>\n",
              "      <th>패밀리레스토랑</th>\n",
              "      <td>0.000631</td>\n",
              "      <td>0.739092</td>\n",
              "      <td>0.000631</td>\n",
              "      <td>0.000631</td>\n",
              "      <td>0.000631</td>\n",
              "      <td>0.252070</td>\n",
              "      <td>0.000631</td>\n",
              "      <td>0.000631</td>\n",
              "      <td>0.000631</td>\n",
              "      <td>0.000631</td>\n",
              "      <td>0.000631</td>\n",
              "      <td>0.000631</td>\n",
              "      <td>0.000631</td>\n",
              "      <td>0.000631</td>\n",
              "      <td>0.000631</td>\n",
              "      <td>0.000631</td>\n",
              "      <td>1.0</td>\n",
              "    </tr>\n",
              "    <tr>\n",
              "      <th>패스트푸드점</th>\n",
              "      <td>0.000947</td>\n",
              "      <td>0.000947</td>\n",
              "      <td>0.000947</td>\n",
              "      <td>0.000947</td>\n",
              "      <td>0.000947</td>\n",
              "      <td>0.985795</td>\n",
              "      <td>0.000947</td>\n",
              "      <td>0.000947</td>\n",
              "      <td>0.000947</td>\n",
              "      <td>0.000947</td>\n",
              "      <td>0.000947</td>\n",
              "      <td>0.000947</td>\n",
              "      <td>0.000947</td>\n",
              "      <td>0.000947</td>\n",
              "      <td>0.000947</td>\n",
              "      <td>0.000947</td>\n",
              "      <td>5.0</td>\n",
              "    </tr>\n",
              "    <tr>\n",
              "      <th>치킨ㆍ피자전문점</th>\n",
              "      <td>0.000947</td>\n",
              "      <td>0.000947</td>\n",
              "      <td>0.000947</td>\n",
              "      <td>0.000947</td>\n",
              "      <td>0.000947</td>\n",
              "      <td>0.985795</td>\n",
              "      <td>0.000947</td>\n",
              "      <td>0.000947</td>\n",
              "      <td>0.000947</td>\n",
              "      <td>0.000947</td>\n",
              "      <td>0.000947</td>\n",
              "      <td>0.000947</td>\n",
              "      <td>0.000947</td>\n",
              "      <td>0.000947</td>\n",
              "      <td>0.000947</td>\n",
              "      <td>0.000947</td>\n",
              "      <td>5.0</td>\n",
              "    </tr>\n",
              "    <tr>\n",
              "      <th>...</th>\n",
              "      <td>...</td>\n",
              "      <td>...</td>\n",
              "      <td>...</td>\n",
              "      <td>...</td>\n",
              "      <td>...</td>\n",
              "      <td>...</td>\n",
              "      <td>...</td>\n",
              "      <td>...</td>\n",
              "      <td>...</td>\n",
              "      <td>...</td>\n",
              "      <td>...</td>\n",
              "      <td>...</td>\n",
              "      <td>...</td>\n",
              "      <td>...</td>\n",
              "      <td>...</td>\n",
              "      <td>...</td>\n",
              "      <td>...</td>\n",
              "    </tr>\n",
              "    <tr>\n",
              "      <th>원무ㆍ코디네이터</th>\n",
              "      <td>0.001179</td>\n",
              "      <td>0.001179</td>\n",
              "      <td>0.001179</td>\n",
              "      <td>0.001179</td>\n",
              "      <td>0.001179</td>\n",
              "      <td>0.001179</td>\n",
              "      <td>0.001179</td>\n",
              "      <td>0.001179</td>\n",
              "      <td>0.001179</td>\n",
              "      <td>0.001179</td>\n",
              "      <td>0.001179</td>\n",
              "      <td>0.001179</td>\n",
              "      <td>0.001179</td>\n",
              "      <td>0.001179</td>\n",
              "      <td>0.982311</td>\n",
              "      <td>0.001179</td>\n",
              "      <td>14.0</td>\n",
              "    </tr>\n",
              "    <tr>\n",
              "      <th>외래보조ㆍ병동보조</th>\n",
              "      <td>0.001078</td>\n",
              "      <td>0.001078</td>\n",
              "      <td>0.001078</td>\n",
              "      <td>0.001078</td>\n",
              "      <td>0.001078</td>\n",
              "      <td>0.001078</td>\n",
              "      <td>0.001078</td>\n",
              "      <td>0.001078</td>\n",
              "      <td>0.001078</td>\n",
              "      <td>0.001078</td>\n",
              "      <td>0.983836</td>\n",
              "      <td>0.001078</td>\n",
              "      <td>0.001078</td>\n",
              "      <td>0.001078</td>\n",
              "      <td>0.001078</td>\n",
              "      <td>0.001078</td>\n",
              "      <td>10.0</td>\n",
              "    </tr>\n",
              "    <tr>\n",
              "      <th>수의테크니션ㆍ동물보건사</th>\n",
              "      <td>0.002976</td>\n",
              "      <td>0.002976</td>\n",
              "      <td>0.002976</td>\n",
              "      <td>0.002976</td>\n",
              "      <td>0.002976</td>\n",
              "      <td>0.002976</td>\n",
              "      <td>0.002976</td>\n",
              "      <td>0.002976</td>\n",
              "      <td>0.002976</td>\n",
              "      <td>0.377284</td>\n",
              "      <td>0.002976</td>\n",
              "      <td>0.002976</td>\n",
              "      <td>0.002976</td>\n",
              "      <td>0.002976</td>\n",
              "      <td>0.002976</td>\n",
              "      <td>0.581049</td>\n",
              "      <td>15.0</td>\n",
              "    </tr>\n",
              "    <tr>\n",
              "      <th>실험ㆍ연구보조</th>\n",
              "      <td>0.000134</td>\n",
              "      <td>0.000134</td>\n",
              "      <td>0.000134</td>\n",
              "      <td>0.000134</td>\n",
              "      <td>0.000134</td>\n",
              "      <td>0.000134</td>\n",
              "      <td>0.000134</td>\n",
              "      <td>0.000134</td>\n",
              "      <td>0.000134</td>\n",
              "      <td>0.000134</td>\n",
              "      <td>0.997984</td>\n",
              "      <td>0.000134</td>\n",
              "      <td>0.000134</td>\n",
              "      <td>0.000134</td>\n",
              "      <td>0.000134</td>\n",
              "      <td>0.000134</td>\n",
              "      <td>10.0</td>\n",
              "    </tr>\n",
              "    <tr>\n",
              "      <th>생동성ㆍ임상시험</th>\n",
              "      <td>0.000381</td>\n",
              "      <td>0.000381</td>\n",
              "      <td>0.000381</td>\n",
              "      <td>0.000381</td>\n",
              "      <td>0.000381</td>\n",
              "      <td>0.000381</td>\n",
              "      <td>0.000381</td>\n",
              "      <td>0.000381</td>\n",
              "      <td>0.000381</td>\n",
              "      <td>0.994284</td>\n",
              "      <td>0.000381</td>\n",
              "      <td>0.000381</td>\n",
              "      <td>0.000381</td>\n",
              "      <td>0.000381</td>\n",
              "      <td>0.000381</td>\n",
              "      <td>0.000381</td>\n",
              "      <td>9.0</td>\n",
              "    </tr>\n",
              "  </tbody>\n",
              "</table>\n",
              "<p>149 rows × 17 columns</p>\n",
              "</div>"
            ],
            "text/plain": [
              "                     0         1         2  ...        14        15  topic\n",
              "일반음식점         0.001025  0.644638  0.001025  ...  0.001025  0.001025    1.0\n",
              "레스토랑          0.000517  0.781219  0.000517  ...  0.000517  0.000517    1.0\n",
              "패밀리레스토랑       0.000631  0.739092  0.000631  ...  0.000631  0.000631    1.0\n",
              "패스트푸드점        0.000947  0.000947  0.000947  ...  0.000947  0.000947    5.0\n",
              "치킨ㆍ피자전문점      0.000947  0.000947  0.000947  ...  0.000947  0.000947    5.0\n",
              "...                ...       ...       ...  ...       ...       ...    ...\n",
              "원무ㆍ코디네이터      0.001179  0.001179  0.001179  ...  0.982311  0.001179   14.0\n",
              "외래보조ㆍ병동보조     0.001078  0.001078  0.001078  ...  0.001078  0.001078   10.0\n",
              "수의테크니션ㆍ동물보건사  0.002976  0.002976  0.002976  ...  0.002976  0.581049   15.0\n",
              "실험ㆍ연구보조       0.000134  0.000134  0.000134  ...  0.000134  0.000134   10.0\n",
              "생동성ㆍ임상시험      0.000381  0.000381  0.000381  ...  0.000381  0.000381    9.0\n",
              "\n",
              "[149 rows x 17 columns]"
            ]
          },
          "metadata": {},
          "execution_count": 88
        }
      ]
    },
    {
      "cell_type": "code",
      "metadata": {
        "id": "NbgdQWTyqX2X"
      },
      "source": [
        "topic_df.to_csv(\"topic-alba_count.csv\")"
      ],
      "execution_count": null,
      "outputs": []
    },
    {
      "cell_type": "code",
      "metadata": {
        "id": "7i3y35VzP_qV"
      },
      "source": [
        ""
      ],
      "execution_count": null,
      "outputs": []
    }
  ]
}